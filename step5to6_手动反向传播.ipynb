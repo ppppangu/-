{
 "cells": [
  {
   "cell_type": "markdown",
   "metadata": {},
   "source": [
    "# 手动反向传播\n",
    "> 原理：通过计算图明确函数普通计算（正向传播）和求导计算（反向传播）之间的对应关系；即变量有普通值和导数值，函数有函数普通计算（正向传播）和求导计算（反向传播）。《框架》P26\n",
    "\n",
    "> 技能：通过增加变量Variable类和函数父类Function及其子类的功能，来增加反向传播的功能。"
   ]
  },
  {
   "cell_type": "code",
   "execution_count": 2,
   "metadata": {},
   "outputs": [],
   "source": [
    "#拓展变量Variable类和函数Function类功能\n",
    "class Variable:\n",
    "    def __init__(self,data):\n",
    "        self.data = data\n",
    "        self.grad = None        #Variable变量类“箱子”增加grad存放导数\n",
    "\n",
    "class Function:\n",
    "    def __call__(self,input):\n",
    "        x = input.data\n",
    "        y = self.forward(x)\n",
    "        output = Variable(y)\n",
    "        self.input = input      #Function类增加，调用实例后记录输入值为实例的input属性的功能\n",
    "        return output\n",
    "\n",
    "    def forward(self,data):\n",
    "        raise NotImplementedError()\n",
    "\n",
    "    def backward(self,gy):\n",
    "        raise NotImplementedError()"
   ]
  },
  {
   "cell_type": "code",
   "execution_count": 4,
   "metadata": {},
   "outputs": [],
   "source": [
    "#拓展Function子类Square类和Exp类功能\n",
    "import numpy as np\n",
    "class Square(Function):\n",
    "    def forward(self, x):\n",
    "        return x ** 2\n",
    "    def backward(self,gy):\n",
    "        x = self.input.data\n",
    "        gx = 2*x*gy\n",
    "        return gx\n",
    "\n",
    "class Exp(Function):\n",
    "    def forward(self, x):\n",
    "        return np.exp(x)\n",
    "    def backward(self,gy):\n",
    "        x = self.input.data     #注意此处需要用data取数，因为记录的是正向传播时输入函数类实例的值，是Variable类，计算需要取数\n",
    "        gx = np.exp(x)*gy\n",
    "        return gx"
   ]
  },
  {
   "cell_type": "code",
   "execution_count": null,
   "metadata": {},
   "outputs": [
    {
     "name": "stdout",
     "output_type": "stream",
     "text": [
      "1.648721270700128\n",
      "3.297442541400256\n"
     ]
    }
   ],
   "source": [
    "#反向传播需要用到正向传播中的函数值，反向传播首先需要正向传播\n",
    "#正向传播\n",
    "A = Square()\n",
    "B = Exp()\n",
    "C = Square()\n",
    "\n",
    "x = Variable(np.array(0.5))\n",
    "a = A(x)\n",
    "b = B(a)\n",
    "y = C(b)\n",
    "\n",
    "print(y.data)\n",
    "\n",
    "#反向传播【这里自己不要看书手打，看着很简单，妙的地方还很多】\n",
    "y.grad = np.array(1.)\n",
    "b.grad = C.backward(y.grad)\n",
    "a.grad = B.backward(b.grad)\n",
    "x.grad = A.backward(a.grad)\n",
    "print(x.grad)"
   ]
  }
 ],
 "metadata": {
  "kernelspec": {
   "display_name": "pytorch",
   "language": "python",
   "name": "python3"
  },
  "language_info": {
   "codemirror_mode": {
    "name": "ipython",
    "version": 3
   },
   "file_extension": ".py",
   "mimetype": "text/x-python",
   "name": "python",
   "nbconvert_exporter": "python",
   "pygments_lexer": "ipython3",
   "version": "3.12.7"
  }
 },
 "nbformat": 4,
 "nbformat_minor": 2
}
