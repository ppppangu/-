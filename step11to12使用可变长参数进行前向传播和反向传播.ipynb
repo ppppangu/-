{
 "cells": [
  {
   "cell_type": "markdown",
   "metadata": {},
   "source": [
    "# 使用可变长参数进行前向传播和反向传播\n",
    "> 拓展Fuction类，将传入函数实例的参数和结果设置为可变成长度的列表格式"
   ]
  },
  {
   "cell_type": "code",
   "execution_count": 2,
   "metadata": {},
   "outputs": [],
   "source": [
    "#原\n",
    "import numpy as np\n",
    "class Variable:\n",
    "    def __init__(self,data):\n",
    "        if data:\n",
    "            if not isinstance(data,np.ndarray):\n",
    "                raise TypeError('{} is not supported'.format(type(data)))\n",
    "        self.data = data\n",
    "        self.grad = None\n",
    "        self.creator = None\n",
    "    def set_creator(self,func):\n",
    "        self.creator = func\n",
    "    def backward(self):\n",
    "        f = self.creator\n",
    "        if self.grad == None:\n",
    "            self.grad = np.ones_like(self.data)\n",
    "        if f is not None:\n",
    "            x = f.input\n",
    "            x.grad = f.backward(self.grad)\n",
    "            x.backward()\n",
    "\n",
    "def is_array(input):\n",
    "    if np.isscalar(input):\n",
    "        return np.array(input)\n",
    "    return input\n",
    "\n",
    "class Function:\n",
    "    def __call__(self,input):\n",
    "        x = input.data\n",
    "        y = self.forward(x)\n",
    "        output = Variable(is_array(y))\n",
    "        output.set_creator(self)\n",
    "        self.input  =input\n",
    "        self.output = output\n",
    "        return output\n",
    "    def forward(self,input):\n",
    "        raise NotImplementedError()\n",
    "    def backward(self,gy):\n",
    "        raise NotImplementedError()\n",
    "\n",
    "class Square(Function):\n",
    "    def forward(self,x):\n",
    "        return x**2\n",
    "    def backward(self,gy):\n",
    "        return 2*self.input.data*gy\n",
    "    \n",
    "class Exp(Function):\n",
    "    def forward(self,x):\n",
    "        return np.exp(x)\n",
    "    def backward(self,gy):\n",
    "        return np.exp(self.input.data)*gy\n",
    "\n",
    "def square(x):\n",
    "    return Square()(x)\n",
    "def exp(x):\n",
    "    return np.Exp()(x)\n",
    "\n"
   ]
  },
  {
   "cell_type": "code",
   "execution_count": 11,
   "metadata": {},
   "outputs": [],
   "source": [
    "#基本拓展\n",
    "import numpy as np\n",
    "class Variable:\n",
    "    def __init__(self,data):\n",
    "        if data:\n",
    "            if not isinstance(data,np.ndarray):\n",
    "                raise TypeError('{} is not supported'.format(type(data)))\n",
    "        self.data = data\n",
    "        self.grad = None\n",
    "        self.creator = None\n",
    "    def set_creator(self,func):\n",
    "        self.creator = func\n",
    "    def backward(self):\n",
    "        f = self.creator\n",
    "        if self.grad == None:\n",
    "            self.grad = np.ones_like(self.data)\n",
    "        if f is not None:\n",
    "            x = f.input\n",
    "            x.grad = f.backward(self.grad)\n",
    "            x.backward()\n",
    "\n",
    "def is_array(input):\n",
    "    if np.isscalar(input):\n",
    "        return np.array(input)\n",
    "    return input\n",
    "#拓展一\n",
    "class Function:\n",
    "    def __call__(self,inputs):\n",
    "        xs = [x.data for x in inputs]\n",
    "        ys =self.forward(xs)\n",
    "        outputs = [Variable(is_array(y)) for y in ys]\n",
    "        for output in outputs:\n",
    "            output.set_creator(self)\n",
    "        self.inputs = inputs\n",
    "        self.outputs = outputs\n",
    "        return outputs if len(outputs) > 1 else outputs[0]\n",
    "    def forward(self,xs):\n",
    "        raise NotImplementedError()\n",
    "    def backward(self,gy):\n",
    "        raise NotImplementedError()\n",
    "#拓展二\n",
    "class Add(Function):\n",
    "    def forward(self,xs):\n",
    "        x1 , x2 = xs\n",
    "        y = x1 + x2\n",
    "        return (y,) #返回值也需要是列表或元组\n",
    "    "
   ]
  },
  {
   "cell_type": "code",
   "execution_count": 14,
   "metadata": {},
   "outputs": [
    {
     "name": "stdout",
     "output_type": "stream",
     "text": [
      "5.0\n"
     ]
    }
   ],
   "source": [
    "\n",
    "#测试\n",
    "x0 = Variable(np.array(2.0))\n",
    "x1 = Variable(np.array(3.0))\n",
    "xs = [x0, x1] \n",
    "A = Add()\n",
    "ys = A(xs)\n",
    "y = ys.data\n",
    "print(y)"
   ]
  },
  {
   "cell_type": "code",
   "execution_count": null,
   "metadata": {},
   "outputs": [],
   "source": []
  }
 ],
 "metadata": {
  "kernelspec": {
   "display_name": "pytorch",
   "language": "python",
   "name": "python3"
  },
  "language_info": {
   "codemirror_mode": {
    "name": "ipython",
    "version": 3
   },
   "file_extension": ".py",
   "mimetype": "text/x-python",
   "name": "python",
   "nbconvert_exporter": "python",
   "pygments_lexer": "ipython3",
   "version": "3.12.7"
  }
 },
 "nbformat": 4,
 "nbformat_minor": 2
}
