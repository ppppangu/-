{
 "cells": [
  {
   "cell_type": "markdown",
   "metadata": {},
   "source": [
    "# \"函数\"的连续调用与数值微分方法（想计算图）"
   ]
  },
  {
   "cell_type": "markdown",
   "metadata": {},
   "source": [
    "**对比以下概念：**\n",
    "> 数学     【原理层】 复合函数   书写形式 VS 如何对某点微分（近似解 & 解析解）\n",
    "\n",
    "> 计算机   【实现层】 “函数”     连续调用 VS 数值微分（中心差分近似 & 前向传播）\n",
    "\n",
    "> 深度学习 【概念层】 信号传递   前向传播 VS 反向传播\n",
    "\n",
    "> 计算图   【图像层】 变量与函数 以箭头为链接的结构"
   ]
  },
  {
   "cell_type": "markdown",
   "metadata": {},
   "source": [
    "## 1、函数连续调用,以为$y = (e^{x^2})^2$建模为例"
   ]
  },
  {
   "cell_type": "code",
   "execution_count": 15,
   "metadata": {},
   "outputs": [
    {
     "name": "stdout",
     "output_type": "stream",
     "text": [
      "65659969.13733052\n"
     ]
    }
   ],
   "source": [
    "# 定义函数类\n",
    "import numpy as np\n",
    "class Variable:\n",
    "    def __init__(self,data):\n",
    "        self.data = data\n",
    "\n",
    "class Function:\n",
    "    def __call__(self,input):\n",
    "        x = input.data\n",
    "        y = self.forward(x)\n",
    "        output = Variable(y)\n",
    "        return output\n",
    "\n",
    "    def forward(self,data):\n",
    "        raise NotImplementedError()\n",
    "\n",
    "class Square(Function):\n",
    "    def forward(self, x):\n",
    "        return x ** 2\n",
    "class Exp(Function):\n",
    "    def forward(self, x):\n",
    "        return np.exp(x)\n",
    "\n",
    "#函数连续使用的范式\n",
    "S = Square()\n",
    "E = Exp()\n",
    "x = Variable(np.array(3.))\n",
    "y = S(E(S(x)))\n",
    "print(y.data)"
   ]
  },
  {
   "cell_type": "markdown",
   "metadata": {},
   "source": [
    "## 2、数值微分（中心差分近似）"
   ]
  },
  {
   "cell_type": "code",
   "execution_count": 20,
   "metadata": {},
   "outputs": [
    {
     "name": "stdout",
     "output_type": "stream",
     "text": [
      "复合函数f在3下的导数为787919631.7017077\n"
     ]
    }
   ],
   "source": [
    "#定义数值微分算法的“函数”\n",
    "def numerical_diff(f,x,eps=1e-4)-> not Variable:\n",
    "    #取值\n",
    "    x0 = Variable(x.data - eps)     #注意这里需要加上Variable()\n",
    "    x1 = Variable(x.data + eps)\n",
    "    #计算\n",
    "    y0 = f(x0)\n",
    "    y1 = f(x1)\n",
    "    #返回\n",
    "    return (y1.data-y0.data)/(2*eps)\n",
    "\n",
    "#定义复合函数\n",
    "def f(x):\n",
    "    S = Square()\n",
    "    E = Exp()\n",
    "    return S(E(S(x)))\n",
    "\n",
    "#使用中心差分近似求导数\n",
    "x = Variable(np.array(3))\n",
    "dx6 = numerical_diff(f,x,eps=1e-5)\n",
    "print(f'复合函数f在{x.data}下的导数为{dx6}')\n"
   ]
  },
  {
   "cell_type": "code",
   "execution_count": null,
   "metadata": {},
   "outputs": [],
   "source": []
  }
 ],
 "metadata": {
  "kernelspec": {
   "display_name": "pytorch",
   "language": "python",
   "name": "python3"
  },
  "language_info": {
   "codemirror_mode": {
    "name": "ipython",
    "version": 3
   },
   "file_extension": ".py",
   "mimetype": "text/x-python",
   "name": "python",
   "nbconvert_exporter": "python",
   "pygments_lexer": "ipython3",
   "version": "3.12.7"
  }
 },
 "nbformat": 4,
 "nbformat_minor": 2
}
