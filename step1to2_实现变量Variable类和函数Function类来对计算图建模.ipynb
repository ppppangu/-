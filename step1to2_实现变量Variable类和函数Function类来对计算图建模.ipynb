{
 "cells": [
  {
   "cell_type": "markdown",
   "metadata": {},
   "source": [
    "# 实现**变量**Variable类和**函数**Function类来对**计算图**建模\n",
    "## 1、变量Variable类\n"
   ]
  },
  {
   "cell_type": "markdown",
   "metadata": {},
   "source": [
    "> 数据存于类实例（‘盒子’）的data属性下"
   ]
  },
  {
   "cell_type": "code",
   "execution_count": null,
   "metadata": {},
   "outputs": [],
   "source": [
    "#定义Variable类\n",
    "class Variable:\n",
    "    def __init__(self,data):\n",
    "        self.data = data"
   ]
  },
  {
   "cell_type": "code",
   "execution_count": 7,
   "metadata": {},
   "outputs": [
    {
     "name": "stdout",
     "output_type": "stream",
     "text": [
      "8\n",
      "<class '__main__.Variable'>\n",
      "0\n",
      "1\n",
      "2\n"
     ]
    }
   ],
   "source": [
    "#使用Variable类\n",
    "import numpy as np\n",
    "x = Variable(np.array(8))\n",
    "print(x.data)\n",
    "print(type(x))\n",
    "\n",
    "##小知识np.ndarray中的ndim（numbers of dimensions）\n",
    "print(np.array(7).ndim) #标量/一维数组\n",
    "print(np.array([3,5,7]).ndim)   #3维向量/二维数组（问：这里的维数为什么是这样的？答：n维向量代表有n个元素，n维数组代表有n个轴）\n",
    "print(np.array([[2,3],[5,3]]).ndim)  #2阶矩阵/三维数组"
   ]
  },
  {
   "cell_type": "markdown",
   "metadata": {},
   "source": [
    "## 2、函数Function类"
   ]
  },
  {
   "cell_type": "markdown",
   "metadata": {},
   "source": [
    "> 在Function类中实现的方法，输入的变量需要是Variable类，输出的变量也需要是Variable类"
   ]
  },
  {
   "cell_type": "code",
   "execution_count": null,
   "metadata": {},
   "outputs": [
    {
     "name": "stdout",
     "output_type": "stream",
     "text": [
      "7的平方是49\n"
     ]
    }
   ],
   "source": [
    "'''定义函数类四步走： 1、取数 2、运算 3、结果类型规范 4、结果返回'''\n",
    "#最简定义\n",
    "class Function:\n",
    "    def __call__(self,input):   #本质是运算符重载\n",
    "        data = input.data\n",
    "        y = data ** 2\n",
    "        output = Variable(y)\n",
    "        return output\n",
    "\n",
    "#使用\n",
    "x = Variable(np.array(7))\n",
    "f = Function()\n",
    "y = f(x)\n",
    "print(f'{x.data}的平方是{y.data}')"
   ]
  },
  {
   "cell_type": "code",
   "execution_count": 11,
   "metadata": {},
   "outputs": [
    {
     "name": "stdout",
     "output_type": "stream",
     "text": [
      "16\n"
     ]
    }
   ],
   "source": [
    "#构建可拓展性高的Function父类（使用子类继承的设计模式）\n",
    "class Function:\n",
    "    def __call__(self,input):\n",
    "        x = input.data\n",
    "        y = self.forward(x)          #易错点：这里定义函数类的计算过程中使用的是self，也就是具体类的forward方法，并不是变量类的方法，低耦合【好代码】\n",
    "        output = Variable(y)\n",
    "        return output\n",
    "\n",
    "    def forward(self,data):\n",
    "        raise NotImplementedError()     #易错点：这里提出异常时，raise后面跟的异常类实例\n",
    "class Square(Function):\n",
    "    def forward(self, x):\n",
    "        return x ** 2\n",
    "    \n",
    "#使用\n",
    "x = Variable(np.array(4))\n",
    "f = Square()\n",
    "y = f(x)\n",
    "print(y.data)"
   ]
  },
  {
   "cell_type": "code",
   "execution_count": null,
   "metadata": {},
   "outputs": [],
   "source": []
  }
 ],
 "metadata": {
  "kernelspec": {
   "display_name": "pytorch",
   "language": "python",
   "name": "python3"
  },
  "language_info": {
   "codemirror_mode": {
    "name": "ipython",
    "version": 3
   },
   "file_extension": ".py",
   "mimetype": "text/x-python",
   "name": "python",
   "nbconvert_exporter": "python",
   "pygments_lexer": "ipython3",
   "version": "3.12.7"
  }
 },
 "nbformat": 4,
 "nbformat_minor": 2
}
